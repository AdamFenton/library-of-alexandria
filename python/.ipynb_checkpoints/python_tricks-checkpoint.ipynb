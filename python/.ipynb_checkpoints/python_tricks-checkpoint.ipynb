{
 "cells": [
  {
   "cell_type": "code",
   "execution_count": null,
   "id": "1d912a9e",
   "metadata": {},
   "outputs": [],
   "source": [
    "# -------------------- #\n",
    "# python-tricks.py\n",
    "# -------------------- #\n",
    "# A collection of small\n",
    "# tricks and one liners\n",
    "# in python\n",
    "# -------------------- #\n",
    "# Author: Adam Fenton\n",
    "# Date: 20230110\n",
    "# -------------------- #"
   ]
  },
  {
   "cell_type": "markdown",
   "id": "1d77ce7d",
   "metadata": {},
   "source": [
    "### Sorting a list of filenames based on part of the filename\n",
    "<br>\n",
    "This is useful when using python's glob module to read in\n",
    "files from a directory but you want them to be parsed in\n",
    "a certain order."
   ]
  },
  {
   "cell_type": "code",
   "execution_count": 1,
   "id": "9f2b2a8e",
   "metadata": {},
   "outputs": [],
   "source": [
    "# Say I have used python's glob module to get a list of files\n",
    "filelist = ['run1.004.1383206.050.h5',\n",
    "            'run1.004.1383206.060.h5',\n",
    "            'run1.004.1383206.070.h5',\n",
    "            'run1.004.1621839.080.h5',\n",
    "            'run1.004.3527379.030.h5',\n",
    "            'run1.004.3527379.040.h5',\n",
    "            'run1.004.3872828.090.h5']"
   ]
  },
  {
   "cell_type": "markdown",
   "id": "37619ef7",
   "metadata": {},
   "source": [
    "The filelist is sorted by filename from left to right (the same way `ls` does\n",
    "in bash). But say I want to process these files in order of the '090','080' etc part of the filename. I can sort it using a lambda function (lambda functions\n",
    "are like small one line functions that apply to their input.)"
   ]
  },
  {
   "cell_type": "code",
   "execution_count": 2,
   "id": "17f9a73b",
   "metadata": {},
   "outputs": [],
   "source": [
    "sorted_filelist =  sorted(filelist, key = lambda x: x.split('.')[3])"
   ]
  },
  {
   "cell_type": "markdown",
   "id": "d75ae1ba",
   "metadata": {},
   "source": [
    "This is saying 'split the filename on a dot and take the third element which\n",
    "will be the 090, 080...' part of the name and then sort the list based on that'\n",
    "By default it sorts in ascending order but reverse=True will sort in decending"
   ]
  },
  {
   "cell_type": "code",
   "execution_count": null,
   "id": "3698eafb",
   "metadata": {},
   "outputs": [],
   "source": []
  },
  {
   "cell_type": "code",
   "execution_count": null,
   "id": "717d2ae1",
   "metadata": {},
   "outputs": [],
   "source": []
  }
 ],
 "metadata": {
  "kernelspec": {
   "display_name": "Python 3 (ipykernel)",
   "language": "python",
   "name": "python3"
  },
  "language_info": {
   "codemirror_mode": {
    "name": "ipython",
    "version": 3
   },
   "file_extension": ".py",
   "mimetype": "text/x-python",
   "name": "python",
   "nbconvert_exporter": "python",
   "pygments_lexer": "ipython3",
   "version": "3.9.13"
  }
 },
 "nbformat": 4,
 "nbformat_minor": 5
}
